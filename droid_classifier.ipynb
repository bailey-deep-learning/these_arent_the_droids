{
 "cells": [
  {
   "cell_type": "code",
   "execution_count": null,
   "metadata": {},
   "outputs": [],
   "source": [
    "from fastai.vision.all import *\n",
    "from fastai.vision.widgets import *"
   ]
  },
  {
   "cell_type": "markdown",
   "metadata": {},
   "source": [
    "# These aren't the droids you're looking for . . ."
   ]
  },
  {
   "cell_type": "markdown",
   "metadata": {},
   "source": [
    "**Sandtrooper:** How long have you had these droids?\n",
    "\n",
    "**Luke Skywalker:** About three or four seasons.\n",
    "\n",
    "**Ben Kenobi:** They're for sale if you want them.\n",
    "\n",
    "**Sandtrooper:** Let me see your identification.\n",
    "\n",
    "**Ben Kenobi:** You don't need to see his identification.\n",
    "\n",
    "**Sandtrooper:** We don't need to see his identification.\n",
    "\n",
    "**Ben Kenobi:** These aren't the droids you're looking for.\n",
    "\n",
    "**Sandtrooper:** These aren't the droids we're looking for.\n",
    "\n",
    "**Ben Kenobi:** He can go about his business.\n",
    "\n",
    "**Sandtrooper:** You can go about your business.\n",
    "\n",
    "**Ben Kenobi:** Move along.\n",
    "\n",
    "**Sandtrooper:** Move along! Move along!\n",
    "\n",
    "**Luke Skywalker:** I can't understand how we got past those troops. I thought we were dead!\n",
    "\n",
    "**Ben Kenobi:** The Force can have a strong influence on the weak-minded.\n",
    "\n",
    "Will the `Force` have a strong influence over the neural network we created in Chapter 2 of [Deep Learning for Coders with fastai and PyTorch](https://www.amazon.co.uk/Deep-Learning-Coders-fastai-PyTorch/dp/1492045527). The network was trained to identify `C-3PO`, `R2-D2` and `BB-8`. Upload a picture to see if the network is weak-minded or would have identified them and captured Luke and Ben. \n",
    "\n",
    "(Important: this network only identifies `C-3PO`, `R2-D2` and `BB-8`. It will **not** give a sensible answer to images that are not the droids it is looking for!)\n",
    "\n",
    "----"
   ]
  },
  {
   "cell_type": "code",
   "execution_count": null,
   "metadata": {},
   "outputs": [],
   "source": [
    "path = Path()\n",
    "learn_inf = load_learner(path/'export.pkl', cpu=True)\n",
    "btn_upload = widgets.FileUpload()\n",
    "out_pl = widgets.Output()\n",
    "lbl_pred = widgets.Label()"
   ]
  },
  {
   "cell_type": "code",
   "execution_count": null,
   "metadata": {},
   "outputs": [],
   "source": [
    "def on_data_change(change):\n",
    "    lbl_pred.value = ''\n",
    "    img = PILImage.create(btn_upload.data[-1])\n",
    "    out_pl.clear_output()\n",
    "    with out_pl: display(img.to_thumb(128,128))\n",
    "    pred,pred_idx,probs = learn_inf.predict(img)\n",
    "    lbl_pred.value = f'Prediction: {pred}; Probability: {probs[pred_idx]:.04f}'"
   ]
  },
  {
   "cell_type": "code",
   "execution_count": null,
   "metadata": {},
   "outputs": [],
   "source": [
    "btn_upload.observe(on_data_change, names=['data'])"
   ]
  },
  {
   "cell_type": "code",
   "execution_count": null,
   "metadata": {
    "scrolled": false
   },
   "outputs": [],
   "source": [
    "display(VBox([widgets.Label('Select your droid!'), btn_upload, out_pl, lbl_pred]))"
   ]
  },
  {
   "cell_type": "code",
   "execution_count": null,
   "metadata": {},
   "outputs": [],
   "source": []
  }
 ],
 "metadata": {
  "jupytext": {
   "split_at_heading": true
  },
  "kernelspec": {
   "display_name": "Python 3",
   "language": "python",
   "name": "python3"
  },
  "language_info": {
   "codemirror_mode": {
    "name": "ipython",
    "version": 3
   },
   "file_extension": ".py",
   "mimetype": "text/x-python",
   "name": "python",
   "nbconvert_exporter": "python",
   "pygments_lexer": "ipython3",
   "version": "3.8.5"
  },
  "toc": {
   "base_numbering": 1,
   "nav_menu": {},
   "number_sections": false,
   "sideBar": true,
   "skip_h1_title": true,
   "title_cell": "Table of Contents",
   "title_sidebar": "Contents",
   "toc_cell": false,
   "toc_position": {},
   "toc_section_display": true,
   "toc_window_display": false
  }
 },
 "nbformat": 4,
 "nbformat_minor": 2
}
